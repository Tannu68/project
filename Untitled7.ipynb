{
  "nbformat": 4,
  "nbformat_minor": 0,
  "metadata": {
    "colab": {
      "provenance": [],
      "authorship_tag": "ABX9TyNPpKcLTO11xnO02QvdA2/8",
      "include_colab_link": true
    },
    "kernelspec": {
      "name": "python3",
      "display_name": "Python 3"
    },
    "language_info": {
      "name": "python"
    }
  },
  "cells": [
    {
      "cell_type": "markdown",
      "metadata": {
        "id": "view-in-github",
        "colab_type": "text"
      },
      "source": [
        "<a href=\"https://colab.research.google.com/github/Tannu68/project/blob/main/Untitled7.ipynb\" target=\"_parent\"><img src=\"https://colab.research.google.com/assets/colab-badge.svg\" alt=\"Open In Colab\"/></a>"
      ]
    },
    {
      "cell_type": "code",
      "execution_count": 4,
      "metadata": {
        "colab": {
          "base_uri": "https://localhost:8080/"
        },
        "id": "JOyBDYp5c9cT",
        "outputId": "0b94727e-701e-4c03-a73f-0745620ccc06"
      },
      "outputs": [
        {
          "output_type": "stream",
          "name": "stdout",
          "text": [
            "['tannu', 'nisha', 'sonu', 'sonu']\n"
          ]
        }
      ],
      "source": [
        "Name=list((\"tannu\",\"nisha\",\"sonu\"))\n",
        "Name.append('sonu')\n",
        "print(Name)"
      ]
    },
    {
      "cell_type": "code",
      "source": [
        "Name=list((\"tannu\",\"sona\",\"shrishti\"))\n",
        "if \"tannu\" in Name:\n",
        "  print(\"yes tannu find in list\")\n"
      ],
      "metadata": {
        "colab": {
          "base_uri": "https://localhost:8080/"
        },
        "id": "qKizOabjiwir",
        "outputId": "c43d3a2e-0d8d-463d-dce4-b02e7c8806a2"
      },
      "execution_count": 11,
      "outputs": [
        {
          "output_type": "stream",
          "name": "stdout",
          "text": [
            "yes tannu find in list\n"
          ]
        }
      ]
    },
    {
      "cell_type": "code",
      "source": [
        "Name=list((\"apple\",\"banana\",\"grapes\"))\n",
        "Name.remove('banana')\n",
        "print(Name)"
      ],
      "metadata": {
        "colab": {
          "base_uri": "https://localhost:8080/"
        },
        "id": "ZF-TcXXlmA30",
        "outputId": "412cf62f-d27d-4a0e-eef6-2f6780713646"
      },
      "execution_count": 15,
      "outputs": [
        {
          "output_type": "stream",
          "name": "stdout",
          "text": [
            "['apple', 'grapes']\n"
          ]
        }
      ]
    },
    {
      "cell_type": "code",
      "source": [
        "Name=list((\"tannu\",\"sonu\",\"komal\"))\n",
        "Name.pop(1)\n",
        "print(Name)"
      ],
      "metadata": {
        "colab": {
          "base_uri": "https://localhost:8080/"
        },
        "id": "BRd2Ch0Hmz05",
        "outputId": "56f1cdc2-a126-41c3-a66c-ef7638c5efc0"
      },
      "execution_count": 26,
      "outputs": [
        {
          "output_type": "stream",
          "name": "stdout",
          "text": [
            "['tannu', 'komal']\n"
          ]
        }
      ]
    },
    {
      "cell_type": "code",
      "source": [
        "Name=list((\"apple\",\"banana\",\"chery\",1990,2000));\n",
        "print\n",
        "print(Name)"
      ],
      "metadata": {
        "colab": {
          "base_uri": "https://localhost:8080/"
        },
        "id": "919rxD2jpZa2",
        "outputId": "496558a3-5e57-4a8c-c20d-b5467af6597b"
      },
      "execution_count": 27,
      "outputs": [
        {
          "output_type": "stream",
          "name": "stdout",
          "text": [
            "['apple', 'banana', 'chery', 1990, 2000]\n"
          ]
        }
      ]
    },
    {
      "cell_type": "code",
      "source": [
        "Name=list((\"apple\",\"banana\",\"komal\"))\n",
        "Name.insert(1,'banana')\n",
        "print(Name)"
      ],
      "metadata": {
        "colab": {
          "base_uri": "https://localhost:8080/"
        },
        "id": "jjeUvmgZoY64",
        "outputId": "eaa3dc8f-051f-4277-aa6f-d06bf45fec11"
      },
      "execution_count": 22,
      "outputs": [
        {
          "output_type": "stream",
          "name": "stdout",
          "text": [
            "['apple', 'banana', 'banana', 'komal']\n"
          ]
        }
      ]
    }
  ]
}