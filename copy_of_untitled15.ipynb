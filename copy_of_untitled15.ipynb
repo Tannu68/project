{
  "nbformat": 4,
  "nbformat_minor": 0,
  "metadata": {
    "colab": {
      "provenance": [],
      "authorship_tag": "ABX9TyN48DiowapKEnPBZaMaBpUg",
      "include_colab_link": true
    },
    "kernelspec": {
      "name": "python3",
      "display_name": "Python 3"
    },
    "language_info": {
      "name": "python"
    }
  },
  "cells": [
    {
      "cell_type": "markdown",
      "metadata": {
        "id": "view-in-github",
        "colab_type": "text"
      },
      "source": [
        "<a href=\"https://colab.research.google.com/github/Tannu68/project/blob/main/copy_of_untitled15.ipynb\" target=\"_parent\"><img src=\"https://colab.research.google.com/assets/colab-badge.svg\" alt=\"Open In Colab\"/></a>"
      ]
    },
    {
      "cell_type": "code",
      "execution_count": null,
      "metadata": {
        "id": "-gvZMnaNMMqB",
        "colab": {
          "base_uri": "https://localhost:8080/"
        },
        "outputId": "e1154acb-ca28-45c3-8b63-516986d5423f"
      },
      "outputs": [
        {
          "output_type": "stream",
          "name": "stdout",
          "text": [
            "2\n",
            "3\n",
            "4\n"
          ]
        }
      ],
      "source": [
        "set={2,3,4}\n",
        "for i in set:\n",
        "  print(i)\n"
      ]
    },
    {
      "cell_type": "code",
      "source": [
        "number={1,2,3}\n",
        "print(type(number))\n",
        "number.add(5)\n",
        "print(number)"
      ],
      "metadata": {
        "colab": {
          "base_uri": "https://localhost:8080/"
        },
        "id": "_ZukCfPYOTOV",
        "outputId": "05b5d6ed-fd11-4265-da79-32f4e5d00111"
      },
      "execution_count": null,
      "outputs": [
        {
          "output_type": "stream",
          "name": "stdout",
          "text": [
            "<class 'set'>\n",
            "{1, 2, 3, 5}\n"
          ]
        }
      ]
    },
    {
      "cell_type": "code",
      "source": [
        "name=(2,3,4,5)\n",
        "number1={name}\n",
        "number.update(number1)\n",
        "\n",
        "\n",
        "print(number)"
      ],
      "metadata": {
        "colab": {
          "base_uri": "https://localhost:8080/"
        },
        "id": "zaR8yJoSPd1w",
        "outputId": "890a0fcc-bbad-440e-8eb4-863476d167ec"
      },
      "execution_count": null,
      "outputs": [
        {
          "output_type": "stream",
          "name": "stdout",
          "text": [
            "{2, 3, 4, (2, 3, 4, 5)}\n"
          ]
        }
      ]
    },
    {
      "cell_type": "code",
      "source": [
        "set={5,4,6,8}\n",
        "id(set)"
      ],
      "metadata": {
        "colab": {
          "base_uri": "https://localhost:8080/"
        },
        "id": "j3qmb8WJTrZ4",
        "outputId": "3f9f1aa4-e88b-4607-d01b-01947fa3d8bc"
      },
      "execution_count": null,
      "outputs": [
        {
          "output_type": "execute_result",
          "data": {
            "text/plain": [
              "137343507528416"
            ]
          },
          "metadata": {},
          "execution_count": 19
        }
      ]
    },
    {
      "cell_type": "code",
      "source": [
        "set={2,3,5,4}\n",
        "set.pop()"
      ],
      "metadata": {
        "colab": {
          "base_uri": "https://localhost:8080/"
        },
        "id": "lnytZMsQSTpK",
        "outputId": "3ceea109-1fe2-4324-f1a8-92f3a3230bac"
      },
      "execution_count": null,
      "outputs": [
        {
          "output_type": "execute_result",
          "data": {
            "text/plain": [
              "2"
            ]
          },
          "metadata": {},
          "execution_count": 15
        }
      ]
    },
    {
      "cell_type": "code",
      "source": [
        "number={2,3,4,5}\n",
        "number.discard(5)\n",
        "print(number)"
      ],
      "metadata": {
        "colab": {
          "base_uri": "https://localhost:8080/"
        },
        "id": "bIfQ5Tk7SpLX",
        "outputId": "b262a5a0-9a21-4e46-e3c1-bd0083cc03f4"
      },
      "execution_count": null,
      "outputs": [
        {
          "output_type": "stream",
          "name": "stdout",
          "text": [
            "{2, 3, 4}\n"
          ]
        }
      ]
    },
    {
      "cell_type": "code",
      "source": [
        "set={\"tannu\",\"sonu\", \"karishma\"}\n",
        "set.remove(\"sonu\")\n",
        "print(set)"
      ],
      "metadata": {
        "colab": {
          "base_uri": "https://localhost:8080/"
        },
        "id": "TCymyCJxS-5O",
        "outputId": "e8fab45c-548c-4457-fe46-489b946d1c44"
      },
      "execution_count": null,
      "outputs": [
        {
          "output_type": "stream",
          "name": "stdout",
          "text": [
            "{'karishma', 'tannu'}\n"
          ]
        }
      ]
    },
    {
      "cell_type": "code",
      "source": [
        "set={2,3,4,5,6}\n",
        "set1={2,5,6,7}\n",
        "set.union(set1)\n",
        "print(set)"
      ],
      "metadata": {
        "colab": {
          "base_uri": "https://localhost:8080/"
        },
        "id": "iuWSXwdqUJrU",
        "outputId": "0c4f622d-53b6-4cf5-ff74-d6b3ff66a879"
      },
      "execution_count": null,
      "outputs": [
        {
          "output_type": "stream",
          "name": "stdout",
          "text": [
            "{2, 3, 4, 5, 6}\n"
          ]
        }
      ]
    },
    {
      "cell_type": "code",
      "source": [
        "set={2,3,4,5,6}\n",
        "set1={1,2,3,4}\n",
        "set.intersection_update(set1)\n",
        "print(set)"
      ],
      "metadata": {
        "colab": {
          "base_uri": "https://localhost:8080/"
        },
        "id": "eL9_VKuZVZzF",
        "outputId": "1f299975-1e73-4efb-a38f-04a095771cb6"
      },
      "execution_count": null,
      "outputs": [
        {
          "output_type": "stream",
          "name": "stdout",
          "text": [
            "{2, 3, 4}\n"
          ]
        }
      ]
    }
  ]
}