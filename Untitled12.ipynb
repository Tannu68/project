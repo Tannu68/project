{
  "nbformat": 4,
  "nbformat_minor": 0,
  "metadata": {
    "colab": {
      "provenance": [],
      "authorship_tag": "ABX9TyP0QCfAdLZgAIeBi8S4ZxcF",
      "include_colab_link": true
    },
    "kernelspec": {
      "name": "python3",
      "display_name": "Python 3"
    },
    "language_info": {
      "name": "python"
    }
  },
  "cells": [
    {
      "cell_type": "markdown",
      "metadata": {
        "id": "view-in-github",
        "colab_type": "text"
      },
      "source": [
        "<a href=\"https://colab.research.google.com/github/Tannu68/project/blob/main/Untitled12.ipynb\" target=\"_parent\"><img src=\"https://colab.research.google.com/assets/colab-badge.svg\" alt=\"Open In Colab\"/></a>"
      ]
    },
    {
      "cell_type": "code",
      "execution_count": 13,
      "metadata": {
        "id": "vYd4CXxNBYaw"
      },
      "outputs": [],
      "source": [
        "a= ((1,4,3,5,6,8,7))\n",
        "a=0\n",
        "for i in range(a):\n",
        "  print(a)"
      ]
    },
    {
      "cell_type": "code",
      "source": [
        "tuple=(\"sonu\",\"tannu\",\"kanu\",\"sona\")\n",
        "print('sona')"
      ],
      "metadata": {
        "colab": {
          "base_uri": "https://localhost:8080/"
        },
        "id": "-MDkSGoGEUH0",
        "outputId": "457b8b0f-c588-45ca-8fdf-dfa50e59e2e4"
      },
      "execution_count": 4,
      "outputs": [
        {
          "output_type": "stream",
          "name": "stdout",
          "text": [
            "sona\n"
          ]
        }
      ]
    },
    {
      "cell_type": "code",
      "source": [
        "tuple=(\"sonu\",\"tannu\",\"komal\",\"suman\")\n",
        "list(\"touple\")\n",
        "name=(\"tannu\",\"komal\",\"suman\")\n",
        "print(name)"
      ],
      "metadata": {
        "colab": {
          "base_uri": "https://localhost:8080/"
        },
        "id": "pOHVi5iRFayf",
        "outputId": "8d9e3abc-9c13-4018-81cf-5fd681b28d70"
      },
      "execution_count": 5,
      "outputs": [
        {
          "output_type": "stream",
          "name": "stdout",
          "text": [
            "('tannu', 'komal', 'suman')\n"
          ]
        }
      ]
    },
    {
      "cell_type": "code",
      "source": [
        "tuple=(\"tannu\",\"sona\",\"komal\",\"sonu\")\n",
        "a=tuple.index('sonu')\n",
        "print( \"sonu\")"
      ],
      "metadata": {
        "colab": {
          "base_uri": "https://localhost:8080/"
        },
        "id": "L-88u17lHeqn",
        "outputId": "143e3ba7-458a-4d40-becc-8cb2ccfbb348"
      },
      "execution_count": 11,
      "outputs": [
        {
          "output_type": "stream",
          "name": "stdout",
          "text": [
            "sonu\n"
          ]
        }
      ]
    },
    {
      "cell_type": "code",
      "source": [
        "tuple=(\"tannu\",\"sona\",\"komal\",\"sonu\")\n",
        "\n"
      ],
      "metadata": {
        "id": "smyOcbZzJno7"
      },
      "execution_count": null,
      "outputs": []
    }
  ]
}